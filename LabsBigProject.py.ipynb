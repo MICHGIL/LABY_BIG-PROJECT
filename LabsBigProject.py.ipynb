{
 "cells": [
  {
   "cell_type": "code",
   "execution_count": 1,
   "id": "brief-circular",
   "metadata": {},
   "outputs": [
    {
     "name": "stdout",
     "output_type": "stream",
     "text": [
      "Posortowane odległości: [[0.13, '3VTN5PzK0T99YQ7YX6kI23'], [0.2, '5oHq9uc3BnKBl1pmvIjJLA'], [0.26, '1JBHJBOr0UKTzHK0XzTII5'], [0.28, '4H2eE9L8X9CraVybCC2cQR'], [0.28, '4jTogtan0EOUJe9T3aUuld'], [0.33, '71iP4QSJtkEWkrhSqRBdA3'], [0.35, '5dOcXPYb53xuJlBzaQpKBc'], [0.35, '6nQWhfXUt8iUVqxIUGTFf0'], [0.36, '4GZA07xlzRg46sG0wAfeuM'], [0.4, '6WlkV3Sz4gtTMM85Rbc5sx'], [0.43, '4BLvBgts2Gvuyh2YFtH8qM'], [0.44, '1SFxGjegYtEPBKkVUYKLTB'], [0.46, '0DGWbcIC2DPWFC0lHNOv4o'], [0.51, '1Ky7BSUiO3mrGsTjY3PZp9'], [0.52, '6svmAudSOwwFUdI6ySWmV9'], [0.59, '3h5HYrVyuQk0IhsDhG8J9U'], [0.61, '6M2GcZvlATUssDJ3BmzZZh'], [0.64, '2LNGyxYvhfRsryCDhBxh4F'], [0.65, '5RqReNZMBlyi0bImwYhmbt'], [1.03, '4L46AoxxYIKY3r718kfHba'], [1.06, '1HEvABYcyTQ5spl2AHG4CV'], [1.07, '2uidthm3zdOzcjXgeUyNK2'], [1.07, '38QKsrJJpTkK249jRarkBM'], [1.07, '5qAFALeAlZi5dOKSJq4P5q'], [1.08, '2i0Vk9WB10IePjBNHIoypG'], [1.08, '4DkBBbGVFOFZNGdhekfDgy'], [1.1, '5wuPThXXbfDmJFYCfFHeHV'], [1.11, '0JKGtNrkdEhQsMupKz4xZ5'], [1.15, '12VQ7d8iczfxFEAf4TLJ3L'], [1.18, '4FKwaxYGCcUdwc3GxAG2pY'], [2.0, '5QuY4zIR2vbq96AZZ1Hxdh'], [2.01, '6w63JPQufIhiipjqDKnamx'], [2.02, '4BcBaSCzDqtgbyWdoNmchH'], [2.02, '4lIOFagrZ6UlIjEM0ZP6q8'], [2.04, '1bq8xEpCIrt3PDIEMtBZc7'], [2.05, '2iBJd0JYq1mOfJjY2Tds5Q'], [2.05, '3yAf6KWkylJRIdcRm0K8G3'], [2.05, '6hwR6mit2MMvcYPvX2OFZI'], [2.06, '3JFr2IWH2PeuhGTgfwVSEf'], [2.09, '4iFhtwMIjiIDWBckEWYxKQ'], [2.09, '4rwC8TYNGksqWLmlLP8KbR'], [2.1, '5p41CLFdFz93FqKIWXq1vB'], [2.1, '6aRwnAwJNHBlpDOdh6fhpN'], [2.11, '6yLP8Gr90oQHzD0AwTn7r1'], [2.16, '3ZVLbEbxrLbxTqXG3pcTnh'], [3.01, '5qN4IepkesMy83eDzOvHOE'], [3.02, '0i2JnrPl173s6oLBSYZ8iD'], [3.02, '3RLMlKry1oEbv7VTABSMZW'], [3.02, '50HfEbnKiPBECpQXh3Rvai'], [3.03, '4V3dVenCthSf8HvRP5pTrm'], [3.03, '6KxKBULBBJhPJiKt3RZwMW'], [3.03, '6tKahO6bgLc1dZzL6EyGoi'], [3.04, '5XDyLF7zTwKadIORFnk2n6'], [3.07, '2XUbkfMClkhYW3sbDuePoA'], [3.08, '1UL1QUbMUDwTLoDgjXINtT'], [3.09, '7Lk93HVP0rQkYVGoxsgh1T'], [3.1, '381qo0VUzFJWO6PTRf3rsA'], [4.01, '2WsWWajw3f4hFe6NL2rEmc'], [4.03, '2Zb52iyyJ0Ir6iTBp8fTYx'], [4.07, '6ykgspUyiyUgliVtzjRrY2'], [4.08, '0tPOS7HpIeFmBb3UNTqTJ6'], [5.0, '61pnMa2mEMpQoVYxXUD1jT'], [5.01, '0r4Gt3ItYIOTEEPgZ8POTi'], [5.01, '16fzDIdGQehV2jiW5KqaGJ'], [5.01, '1ixxfiTOXw8yAmbUcPdFDk'], [5.01, '3yTDPOGviPZeO4j59elkXt'], [5.01, '5NPHXWQJlsXb5DvkTGcrCS'], [5.01, '5RNTax0NA38ot5tcdz4DbL'], [5.01, '7Djp7Vkm765LIqLODQXEi7'], [5.02, '4dBRiJ7iqZO8dIrZJarQCa'], [5.02, '5wU9xXPdfTXqN8rBrTHIW3'], [5.02, '7cym1cTM856K6vNgfyN7iP'], [5.03, '1Beh1HcYoLUOyC036SrhGB'], [5.03, '1laF5TRKAbfuMfDHgRpa4T'], [5.03, '3rvXqioUPvUxH089LaqeDy'], [5.03, '670gd37RWZjfOpQAdZQAQu'], [5.03, '7zdeRaN0IoTeT7oq3ahfQj'], [5.07, '4ZwbPLiBRlKA8jLFVoIPFi'], [6.01, '2qsgWhDjjvEvmkdCgjO9ri'], [6.01, '44MVx8rc0lfUp5yW9VDl2A'], [6.01, '4IVlkdE0zQdP56iZiHn5rL'], [6.02, '0YoNeOsJgTAfQtFr0bYEw7'], [6.02, '3CZtwixJvnRkfgNOxaF3Dn'], [6.02, '5nknmBPKAMRxIcKLBbUE0N'], [6.02, '5pa2lWxWk7UOCQBMKagKnt'], [6.02, '6LwBFoBcDfSOAQ0McrGgYk'], [6.02, '7p6m7n8BPeGFAeLphvbz70'], [6.03, '1bf2znJ3TEZWODV3EuXGQK'], [7.0, '7nl22KBijYGX7EJrgEXly3'], [7.01, '0S6p2bdkHtP40s6zohvbFZ'], [7.01, '1iEYmVxPus9Yrcj0Vyagin'], [7.01, '2WcIZtZ6nNAkzTY5Zy110M'], [7.01, '2u01roQVib48DUstSbCz90'], [7.01, '3TWpxA3DRgBL0Z8MpuBfUx'], [7.01, '79bhJ8vEiEgsJUzy5jeaVV'], [7.01, '7MOOhBRUaUmXDHVjdwKzBn'], [7.04, '3XTIMboeTUHNRIZpfOd6Js'], [7.04, '68cIWEReM7H9qG2ZYmkGMq'], [7.04, '7fb5cLWytQFjpnnlULMgbb'], [7.05, '6at2OT6ik9751T772Sn53B']]\n",
      "Wybierz liczbę sąsiadów\n",
      "3\n",
      "Oto proponowane piosenki: ['3VTN5PzK0T99YQ7YX6kI23', '5oHq9uc3BnKBl1pmvIjJLA', '1JBHJBOr0UKTzHK0XzTII5']\n"
     ]
    }
   ],
   "source": [
    "import pandas as pd\n",
    "import spotipy\n",
    "from spotipy.oauth2 import SpotifyClientCredentials\n",
    "import math\n",
    "from statistics import mode\n",
    "\n",
    "client_id = \"2414011f2fab4d93ab24db4093524758\"\n",
    "client_secret = \"b4b85483ecac42cfa2d9e8b255137757\"\n",
    "\n",
    "sp = spotipy.Spotify(auth_manager = SpotifyClientCredentials(client_id, client_secret))\n",
    "\n",
    "sp.trace=False\n",
    "playlist = sp.user_playlist(\"2020 - IMPALA Album of the Year Award - Albums\", \"3lyIN15h9uVlkvPKahuOfX\")\n",
    "# playlist = sp.user_playlist(\"Reassuring\", \"52KwifcwbsyxMfXUhcpMO4\") # ID playlisty to ten fragment linku po ukośniku i przed znakiem zapytania\n",
    "songs = playlist[\"tracks\"][\"items\"]\n",
    "ids = []\n",
    "for i in range(len(songs)):\n",
    "    ids.append(songs[i][\"track\"][\"id\"])   #tutaj jak zmienimy id na name to dostajemy tytuły piosenek\n",
    "features = sp.audio_features(ids)\n",
    "odległości = []\n",
    "target_id = \"3cyHz6vzksSQ92KEkr0wu3\"\n",
    "target = sp.audio_features(target_id) \n",
    "cechy = {\"taneczność\": \"danceability\"}\n",
    "for i in range(len(songs)):\n",
    "    odległość = math.sqrt((float(target[0][cechy[\"taneczność\"]])-float(features[i][cechy[\"taneczność\"]]))**2+(float(target[0][\"energy\"])-float(features[i][\"energy\"]))**2\n",
    "                +(float(target[0][\"key\"])-float(features[i][\"key\"]))**2+(float(target[0][\"acousticness\"])-float(features[i][\"acousticness\"]))**2)\n",
    "    odległości.append([round(odległość,2), features[i][\"id\"]])\n",
    "odległości.sort()\n",
    "print(\"Posortowane odległości:\", odległości)\n",
    "obiekty = []\n",
    "k = int(input(\"Wybierz liczbę sąsiadów\\n\")) \n",
    "for i in range(k):\n",
    "    obiekty.append(odległości[i][1])\n",
    "print(\"Oto proponowane piosenki:\", obiekty)\n",
    "\n"
   ]
  },
  {
   "cell_type": "code",
   "execution_count": null,
   "id": "dominant-fusion",
   "metadata": {},
   "outputs": [],
   "source": []
  },
  {
   "cell_type": "code",
   "execution_count": null,
   "id": "coordinate-yellow",
   "metadata": {},
   "outputs": [],
   "source": []
  },
  {
   "cell_type": "code",
   "execution_count": null,
   "id": "jewish-routine",
   "metadata": {},
   "outputs": [],
   "source": []
  },
  {
   "cell_type": "code",
   "execution_count": null,
   "id": "reliable-punch",
   "metadata": {},
   "outputs": [],
   "source": []
  },
  {
   "cell_type": "code",
   "execution_count": null,
   "id": "quantitative-frontier",
   "metadata": {},
   "outputs": [],
   "source": []
  },
  {
   "cell_type": "code",
   "execution_count": null,
   "id": "enhanced-elements",
   "metadata": {},
   "outputs": [],
   "source": []
  },
  {
   "cell_type": "code",
   "execution_count": null,
   "id": "baking-calvin",
   "metadata": {},
   "outputs": [],
   "source": []
  },
  {
   "cell_type": "code",
   "execution_count": null,
   "id": "frozen-optics",
   "metadata": {},
   "outputs": [],
   "source": []
  }
 ],
 "metadata": {
  "kernelspec": {
   "display_name": "Python 3",
   "language": "python",
   "name": "python3"
  },
  "language_info": {
   "codemirror_mode": {
    "name": "ipython",
    "version": 3
   },
   "file_extension": ".py",
   "mimetype": "text/x-python",
   "name": "python",
   "nbconvert_exporter": "python",
   "pygments_lexer": "ipython3",
   "version": "3.8.6"
  }
 },
 "nbformat": 4,
 "nbformat_minor": 5
}
