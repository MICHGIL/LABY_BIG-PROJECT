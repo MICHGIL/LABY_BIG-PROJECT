{
 "cells": [
  {
   "cell_type": "code",
   "execution_count": 4,
   "id": "brief-circular",
   "metadata": {},
   "outputs": [
    {
     "name": "stdout",
     "output_type": "stream",
     "text": [
      "track    : Stairway to Heaven - Remaster\n",
      "audio    : https://p.scdn.co/mp3-preview/8226164717312bc411f8635580562d67e191a754?cid=2414011f2fab4d93ab24db4093524758\n",
      "cover art: https://i.scdn.co/image/ab67616d0000b273c8a11e48c91a982d086afc69\n",
      "\n",
      "track    : Whole Lotta Love - 1990 Remaster\n",
      "audio    : https://p.scdn.co/mp3-preview/ce11b19a4d2de9976d7626df0717d0073863909c?cid=2414011f2fab4d93ab24db4093524758\n",
      "cover art: https://i.scdn.co/image/ab67616d0000b273fc4f17340773c6c3579fea0d\n",
      "\n",
      "track    : Immigrant Song - Remaster\n",
      "audio    : https://p.scdn.co/mp3-preview/8455599677a13017978dcd3f4b210937f0a16bcb?cid=2414011f2fab4d93ab24db4093524758\n",
      "cover art: https://i.scdn.co/image/ab67616d0000b27390a50cfe99a4c19ff3cbfbdb\n",
      "\n",
      "track    : Black Dog - Remaster\n",
      "audio    : https://p.scdn.co/mp3-preview/9b76619fd9d563a48d38cc90ca00c3008327b52e?cid=2414011f2fab4d93ab24db4093524758\n",
      "cover art: https://i.scdn.co/image/ab67616d0000b273c8a11e48c91a982d086afc69\n",
      "\n",
      "track    : Ramble On - 1990 Remaster\n",
      "audio    : https://p.scdn.co/mp3-preview/83383aceb01ea27b0bffdedfaebe55e29b33aca2?cid=2414011f2fab4d93ab24db4093524758\n",
      "cover art: https://i.scdn.co/image/ab67616d0000b273fc4f17340773c6c3579fea0d\n",
      "\n",
      "track    : Kashmir - 1990 Remaster\n",
      "audio    : https://p.scdn.co/mp3-preview/13b2c47c98132f80a5ce12d8a4ceb192ba7a4345?cid=2414011f2fab4d93ab24db4093524758\n",
      "cover art: https://i.scdn.co/image/ab67616d0000b2732abc2d86a442efb6cc631d0a\n",
      "\n",
      "track    : Good Times Bad Times - 1993 Remaster\n",
      "audio    : https://p.scdn.co/mp3-preview/c1f024eb57b569b926c8e68cab0a6056dc7d9654?cid=2414011f2fab4d93ab24db4093524758\n",
      "cover art: https://i.scdn.co/image/ab67616d0000b2736f2f499c1df1f210c9b34b32\n",
      "\n",
      "track    : Rock and Roll - Remaster\n",
      "audio    : https://p.scdn.co/mp3-preview/e7ea8a13f7caf6942c5447e9cd96aac2a076d85a?cid=2414011f2fab4d93ab24db4093524758\n",
      "cover art: https://i.scdn.co/image/ab67616d0000b273c8a11e48c91a982d086afc69\n",
      "\n",
      "track    : Going to California - Remaster\n",
      "audio    : https://p.scdn.co/mp3-preview/4bdae56c6a9f7a8ec42b753cb7bea2c77ec68f1e?cid=2414011f2fab4d93ab24db4093524758\n",
      "cover art: https://i.scdn.co/image/ab67616d0000b273c8a11e48c91a982d086afc69\n",
      "\n",
      "track    : All My Love - 1990 Remaster\n",
      "audio    : https://p.scdn.co/mp3-preview/d03424a544dcc5102703ebb081fd321dc5567b32?cid=2414011f2fab4d93ab24db4093524758\n",
      "cover art: https://i.scdn.co/image/ab67616d0000b273b66922383836fd1f0973018f\n",
      "\n"
     ]
    }
   ],
   "source": [
    "import pandas as pd\n",
    "import spotipy\n",
    "from spotipy.oauth2 import SpotifyClientCredentials\n",
    "import math\n",
    "from statistics import mode\n",
    "\n",
    "client_id = \"2414011f2fab4d93ab24db4093524758\"\n",
    "client_secret = \"b4b85483ecac42cfa2d9e8b255137757\"\n",
    "\n",
    "sp = spotipy.Spotify(auth_manager = SpotifyClientCredentials(client_id, client_secret))\n",
    "\n",
    "# sp.trace=False\n",
    "# playlist = sp.user_playlist(\"Reassuring\", \"52KwifcwbsyxMfXUhcpMO4\") # ID playlisty to ten fragment linku po ukośniku i przed znakiem zapytania\n",
    "# songs = playlist[\"tracks\"][\"items\"]\n",
    "# ids = []\n",
    "# for i in range(len(songs)):\n",
    "#     ids.append(songs[i][\"track\"][\"id\"])   #tutaj jak zmienimy id na name to dostajemy tytuły piosenek\n",
    "# features = sp.audio_features(ids)\n",
    "# odległości = []\n",
    "# target = features[0]    # tu powinno się wybierać piosenkę na bazie której wlecą polecajki  \n",
    "# for i in range(len(songs)):\n",
    "#     odległość = math.sqrt((float(target['danceability'])-float(features[i][\"danceability\"]))**2+(float(target[\"energy\"])-float(features[i][\"energy\"]))**2\n",
    "#                 +(float(target[\"key\"])-float(features[i][\"key\"]))**2+(float(target[\"acousticness\"])-float(features[i][\"acousticness\"]))**2)\n",
    "#     odległości.append([round(odległość,2), features[i][\"id\"]])\n",
    "# odległości.sort()\n",
    "# print(\"Posortowane odległości:\", odległości)\n",
    "# obiekty = []\n",
    "# k = int(input(\"Wybierz liczbę sąsiadów\\n\")) \n",
    "# for i in range(k):\n",
    "#     obiekty.append(odległości[i][1])\n",
    "# print(\"Oto proponowane piosenki:\", obiekty)\n",
    "\n",
    "# lz_uri = 'spotify:artist:36QJpDe2go2KgaRleHCDTp'\n",
    "\n",
    "# results = sp.artist_top_tracks(lz_uri)\n",
    "\n",
    "# for track in results['tracks'][:10]:\n",
    "#     print('track    : ' + track['name'])\n",
    "#     print('audio    : ' + track['preview_url'])\n",
    "#     print('cover art: ' + track['album']['images'][0]['url'])\n",
    "#     print()\n"
   ]
  },
  {
   "cell_type": "code",
   "execution_count": null,
   "id": "dominant-fusion",
   "metadata": {},
   "outputs": [],
   "source": []
  },
  {
   "cell_type": "code",
   "execution_count": null,
   "id": "coordinate-yellow",
   "metadata": {},
   "outputs": [],
   "source": []
  },
  {
   "cell_type": "code",
   "execution_count": null,
   "id": "jewish-routine",
   "metadata": {},
   "outputs": [],
   "source": []
  },
  {
   "cell_type": "code",
   "execution_count": null,
   "id": "reliable-punch",
   "metadata": {},
   "outputs": [],
   "source": []
  },
  {
   "cell_type": "code",
   "execution_count": null,
   "id": "quantitative-frontier",
   "metadata": {},
   "outputs": [],
   "source": []
  },
  {
   "cell_type": "code",
   "execution_count": null,
   "id": "enhanced-elements",
   "metadata": {},
   "outputs": [],
   "source": []
  },
  {
   "cell_type": "code",
   "execution_count": null,
   "id": "baking-calvin",
   "metadata": {},
   "outputs": [],
   "source": []
  },
  {
   "cell_type": "code",
   "execution_count": null,
   "id": "frozen-optics",
   "metadata": {},
   "outputs": [],
   "source": []
  }
 ],
 "metadata": {
  "kernelspec": {
   "display_name": "Python 3",
   "language": "python",
   "name": "python3"
  },
  "language_info": {
   "codemirror_mode": {
    "name": "ipython",
    "version": 3
   },
   "file_extension": ".py",
   "mimetype": "text/x-python",
   "name": "python",
   "nbconvert_exporter": "python",
   "pygments_lexer": "ipython3",
   "version": "3.8.6"
  }
 },
 "nbformat": 4,
 "nbformat_minor": 5
}
